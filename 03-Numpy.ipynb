{
 "cells": [
  {
   "cell_type": "markdown",
   "id": "76fae098",
   "metadata": {},
   "source": [
    "### np.sort"
   ]
  },
  {
   "cell_type": "markdown",
   "id": "c887b2a0",
   "metadata": {
    "vscode": {
     "languageId": "plaintext"
    }
   },
   "source": [
    "- Return a sorted copy of an array"
   ]
  },
  {
   "cell_type": "code",
   "execution_count": 2,
   "id": "c2ac2b52",
   "metadata": {},
   "outputs": [
    {
     "data": {
      "text/plain": [
       "array([11, 88, 44, 68,  9, 65, 87, 76,  3, 90, 16, 84, 40, 10, 38],\n",
       "      dtype=int32)"
      ]
     },
     "execution_count": 2,
     "metadata": {},
     "output_type": "execute_result"
    }
   ],
   "source": [
    "# code\n",
    "import numpy as np\n",
    "\n",
    "a = np.random.randint(1, 100, 15)\n",
    "a"
   ]
  },
  {
   "cell_type": "code",
   "execution_count": 3,
   "id": "63114850",
   "metadata": {},
   "outputs": [
    {
     "data": {
      "text/plain": [
       "array([[68,  7, 62, 24],\n",
       "       [98, 73, 72, 77],\n",
       "       [69, 31, 97,  8],\n",
       "       [ 5, 33, 39, 85],\n",
       "       [61, 56, 31, 48],\n",
       "       [51, 68, 10, 71]], dtype=int32)"
      ]
     },
     "execution_count": 3,
     "metadata": {},
     "output_type": "execute_result"
    }
   ],
   "source": [
    "b = np.random.randint(1, 100, 24).reshape(6, 4)\n",
    "b"
   ]
  },
  {
   "cell_type": "code",
   "execution_count": 4,
   "id": "4d7e9dd2",
   "metadata": {},
   "outputs": [
    {
     "data": {
      "text/plain": [
       "array([ 3,  9, 10, 11, 16, 38, 40, 44, 65, 68, 76, 84, 87, 88, 90],\n",
       "      dtype=int32)"
      ]
     },
     "execution_count": 4,
     "metadata": {},
     "output_type": "execute_result"
    }
   ],
   "source": [
    "np.sort(a)  # sorted in ascending order"
   ]
  },
  {
   "cell_type": "code",
   "execution_count": 5,
   "id": "b9859d21",
   "metadata": {},
   "outputs": [
    {
     "data": {
      "text/plain": [
       "array([90, 88, 87, 84, 76, 68, 65, 44, 40, 38, 16, 11, 10,  9,  3],\n",
       "      dtype=int32)"
      ]
     },
     "execution_count": 5,
     "metadata": {},
     "output_type": "execute_result"
    }
   ],
   "source": [
    "np.sort(a)[::-1]  # sorted in descending order"
   ]
  },
  {
   "cell_type": "code",
   "execution_count": 6,
   "id": "38b60d14",
   "metadata": {},
   "outputs": [
    {
     "data": {
      "text/plain": [
       "array([[ 7, 24, 62, 68],\n",
       "       [72, 73, 77, 98],\n",
       "       [ 8, 31, 69, 97],\n",
       "       [ 5, 33, 39, 85],\n",
       "       [31, 48, 56, 61],\n",
       "       [10, 51, 68, 71]], dtype=int32)"
      ]
     },
     "execution_count": 6,
     "metadata": {},
     "output_type": "execute_result"
    }
   ],
   "source": [
    "np.sort(b)  # ascending order in row wise"
   ]
  },
  {
   "cell_type": "code",
   "execution_count": 7,
   "id": "73f7374a",
   "metadata": {},
   "outputs": [
    {
     "data": {
      "text/plain": [
       "array([[ 5,  7, 10,  8],\n",
       "       [51, 31, 31, 24],\n",
       "       [61, 33, 39, 48],\n",
       "       [68, 56, 62, 71],\n",
       "       [69, 68, 72, 77],\n",
       "       [98, 73, 97, 85]], dtype=int32)"
      ]
     },
     "execution_count": 7,
     "metadata": {},
     "output_type": "execute_result"
    }
   ],
   "source": [
    "np.sort(b, axis=0)  # descending order in coloum wise"
   ]
  },
  {
   "cell_type": "markdown",
   "id": "161a846f",
   "metadata": {},
   "source": [
    "### np.append()"
   ]
  },
  {
   "cell_type": "markdown",
   "id": "6f8a6c10",
   "metadata": {},
   "source": [
    "- The numpy.append() appends values along the mentioned axis at the end of the array"
   ]
  },
  {
   "cell_type": "code",
   "execution_count": 8,
   "id": "9844a1d7",
   "metadata": {},
   "outputs": [
    {
     "data": {
      "text/plain": [
       "array([11, 88, 44, 68,  9, 65, 87, 76,  3, 90, 16, 84, 40, 10, 38],\n",
       "      dtype=int32)"
      ]
     },
     "execution_count": 8,
     "metadata": {},
     "output_type": "execute_result"
    }
   ],
   "source": [
    "# code\n",
    "a"
   ]
  },
  {
   "cell_type": "code",
   "execution_count": 9,
   "id": "7c81243a",
   "metadata": {},
   "outputs": [
    {
     "data": {
      "text/plain": [
       "array([ 11,  88,  44,  68,   9,  65,  87,  76,   3,  90,  16,  84,  40,\n",
       "        10,  38, 200])"
      ]
     },
     "execution_count": 9,
     "metadata": {},
     "output_type": "execute_result"
    }
   ],
   "source": [
    "np.append(a, 200)"
   ]
  },
  {
   "cell_type": "code",
   "execution_count": 10,
   "id": "076319e1",
   "metadata": {},
   "outputs": [
    {
     "data": {
      "text/plain": [
       "array([[68,  7, 62, 24],\n",
       "       [98, 73, 72, 77],\n",
       "       [69, 31, 97,  8],\n",
       "       [ 5, 33, 39, 85],\n",
       "       [61, 56, 31, 48],\n",
       "       [51, 68, 10, 71]], dtype=int32)"
      ]
     },
     "execution_count": 10,
     "metadata": {},
     "output_type": "execute_result"
    }
   ],
   "source": [
    "b"
   ]
  },
  {
   "cell_type": "code",
   "execution_count": 11,
   "id": "6ed9ecd0",
   "metadata": {},
   "outputs": [
    {
     "data": {
      "text/plain": [
       "array([[68.,  7., 62., 24.,  1.],\n",
       "       [98., 73., 72., 77.,  1.],\n",
       "       [69., 31., 97.,  8.,  1.],\n",
       "       [ 5., 33., 39., 85.,  1.],\n",
       "       [61., 56., 31., 48.,  1.],\n",
       "       [51., 68., 10., 71.,  1.]])"
      ]
     },
     "execution_count": 11,
     "metadata": {},
     "output_type": "execute_result"
    }
   ],
   "source": [
    "np.append(b, np.ones((b.shape[0], 1)), axis=1)"
   ]
  },
  {
   "cell_type": "markdown",
   "id": "7c2b7fdb",
   "metadata": {},
   "source": [
    "### np.concatenate"
   ]
  },
  {
   "cell_type": "markdown",
   "id": "254b7234",
   "metadata": {},
   "source": [
    "- numpy.concatenate() function concatenate a sequence of arrays along an existing axis"
   ]
  },
  {
   "cell_type": "code",
   "execution_count": 12,
   "id": "2446cc56",
   "metadata": {},
   "outputs": [
    {
     "name": "stdout",
     "output_type": "stream",
     "text": [
      "[[0 1 2]\n",
      " [3 4 5]]\n",
      "\n",
      "[[ 6  7  8]\n",
      " [ 9 10 11]]\n"
     ]
    }
   ],
   "source": [
    "# code\n",
    "c = np.arange(6).reshape(2, 3)\n",
    "d = np.arange(6, 12).reshape(2, 3)\n",
    "print(c)\n",
    "print()\n",
    "print(d)\n"
   ]
  },
  {
   "cell_type": "code",
   "execution_count": 13,
   "id": "78c66b96",
   "metadata": {},
   "outputs": [
    {
     "data": {
      "text/plain": [
       "array([[ 0,  1,  2],\n",
       "       [ 3,  4,  5],\n",
       "       [ 6,  7,  8],\n",
       "       [ 9, 10, 11]])"
      ]
     },
     "execution_count": 13,
     "metadata": {},
     "output_type": "execute_result"
    }
   ],
   "source": [
    "np.concatenate((c, d))"
   ]
  },
  {
   "cell_type": "markdown",
   "id": "913837ae",
   "metadata": {},
   "source": [
    "### np.unique"
   ]
  },
  {
   "cell_type": "markdown",
   "id": "84742cd8",
   "metadata": {},
   "source": [
    "- with the help np.unique() method, we can get the unique values from an array given as parameter in np.unique() method."
   ]
  },
  {
   "cell_type": "code",
   "execution_count": 14,
   "id": "a44533f2",
   "metadata": {},
   "outputs": [],
   "source": [
    "e = np.array([1, 1, 2, 2, 3, 3, 4, 4, 5, 5, 6, 6])"
   ]
  },
  {
   "cell_type": "code",
   "execution_count": 15,
   "id": "95120015",
   "metadata": {},
   "outputs": [
    {
     "data": {
      "text/plain": [
       "array([1, 2, 3, 4, 5, 6])"
      ]
     },
     "execution_count": 15,
     "metadata": {},
     "output_type": "execute_result"
    }
   ],
   "source": [
    "np.unique(e)"
   ]
  },
  {
   "cell_type": "markdown",
   "id": "8b4b2a47",
   "metadata": {},
   "source": [
    "### np.expand_dims"
   ]
  },
  {
   "cell_type": "markdown",
   "id": "42db0a99",
   "metadata": {},
   "source": [
    "- with help of Numpy.expand_dims() method,we can get the expanded dimensions of an array"
   ]
  },
  {
   "cell_type": "code",
   "execution_count": 16,
   "id": "cc203545",
   "metadata": {},
   "outputs": [
    {
     "data": {
      "text/plain": [
       "array([11, 88, 44, 68,  9, 65, 87, 76,  3, 90, 16, 84, 40, 10, 38],\n",
       "      dtype=int32)"
      ]
     },
     "execution_count": 16,
     "metadata": {},
     "output_type": "execute_result"
    }
   ],
   "source": [
    "a"
   ]
  },
  {
   "cell_type": "code",
   "execution_count": 18,
   "id": "509f4621",
   "metadata": {},
   "outputs": [
    {
     "data": {
      "text/plain": [
       "(1, 15)"
      ]
     },
     "execution_count": 18,
     "metadata": {},
     "output_type": "execute_result"
    }
   ],
   "source": [
    "np.expand_dims(a, axis=0).shape"
   ]
  },
  {
   "cell_type": "code",
   "execution_count": 19,
   "id": "2f108190",
   "metadata": {},
   "outputs": [
    {
     "data": {
      "text/plain": [
       "(15, 1)"
      ]
     },
     "execution_count": 19,
     "metadata": {},
     "output_type": "execute_result"
    }
   ],
   "source": [
    "np.expand_dims(a, axis=1).shape"
   ]
  },
  {
   "cell_type": "markdown",
   "id": "0067d556",
   "metadata": {},
   "source": [
    "### np.where"
   ]
  },
  {
   "cell_type": "markdown",
   "id": "f3101f94",
   "metadata": {},
   "source": [
    "- The numpy.where() function returns the indicates of elements in an input array where the given condition is satisfied."
   ]
  },
  {
   "cell_type": "code",
   "execution_count": 20,
   "id": "1b98faea",
   "metadata": {},
   "outputs": [
    {
     "data": {
      "text/plain": [
       "array([11, 88, 44, 68,  9, 65, 87, 76,  3, 90, 16, 84, 40, 10, 38],\n",
       "      dtype=int32)"
      ]
     },
     "execution_count": 20,
     "metadata": {},
     "output_type": "execute_result"
    }
   ],
   "source": [
    "a"
   ]
  },
  {
   "cell_type": "code",
   "execution_count": 21,
   "id": "c07ce1bf",
   "metadata": {},
   "outputs": [
    {
     "data": {
      "text/plain": [
       "(array([ 1,  3,  5,  6,  7,  9, 11]),)"
      ]
     },
     "execution_count": 21,
     "metadata": {},
     "output_type": "execute_result"
    }
   ],
   "source": [
    "# find all indices with value greater than 50\n",
    "np.where(a > 50)"
   ]
  },
  {
   "cell_type": "code",
   "execution_count": 23,
   "id": "0e510a65",
   "metadata": {},
   "outputs": [
    {
     "data": {
      "text/plain": [
       "array([11,  0, 44,  0,  9,  0,  0,  0,  3,  0, 16,  0, 40, 10, 38],\n",
       "      dtype=int32)"
      ]
     },
     "execution_count": 23,
     "metadata": {},
     "output_type": "execute_result"
    }
   ],
   "source": [
    "# replace all values > 50 with 0\n",
    "np.where(a > 50, 0, a)"
   ]
  },
  {
   "cell_type": "code",
   "execution_count": 24,
   "id": "060afcf1",
   "metadata": {},
   "outputs": [
    {
     "data": {
      "text/plain": [
       "array([11,  0,  0,  0,  9, 65, 87,  0,  3,  0,  0,  0,  0,  0,  0],\n",
       "      dtype=int32)"
      ]
     },
     "execution_count": 24,
     "metadata": {},
     "output_type": "execute_result"
    }
   ],
   "source": [
    "# replace even number > 50 with 0\n",
    "np.where(a % 2 == 0, 0, a)"
   ]
  },
  {
   "cell_type": "markdown",
   "id": "f87e00f5",
   "metadata": {},
   "source": [
    "### np.argmax and argmin"
   ]
  },
  {
   "cell_type": "markdown",
   "id": "1df6eb86",
   "metadata": {},
   "source": [
    "- The numpy.argmax() function returns indices of the max element of the array in a particular axis."
   ]
  },
  {
   "cell_type": "code",
   "execution_count": 25,
   "id": "58f47355",
   "metadata": {},
   "outputs": [
    {
     "data": {
      "text/plain": [
       "array([11, 88, 44, 68,  9, 65, 87, 76,  3, 90, 16, 84, 40, 10, 38],\n",
       "      dtype=int32)"
      ]
     },
     "execution_count": 25,
     "metadata": {},
     "output_type": "execute_result"
    }
   ],
   "source": [
    "a"
   ]
  },
  {
   "cell_type": "code",
   "execution_count": 26,
   "id": "00f906d6",
   "metadata": {},
   "outputs": [
    {
     "data": {
      "text/plain": [
       "np.int64(9)"
      ]
     },
     "execution_count": 26,
     "metadata": {},
     "output_type": "execute_result"
    }
   ],
   "source": [
    "np.argmax(a)"
   ]
  },
  {
   "cell_type": "code",
   "execution_count": 27,
   "id": "df62af25",
   "metadata": {},
   "outputs": [
    {
     "data": {
      "text/plain": [
       "np.int64(8)"
      ]
     },
     "execution_count": 27,
     "metadata": {},
     "output_type": "execute_result"
    }
   ],
   "source": [
    "np.argmin(a)"
   ]
  },
  {
   "cell_type": "code",
   "execution_count": 28,
   "id": "e22f6583",
   "metadata": {},
   "outputs": [
    {
     "data": {
      "text/plain": [
       "array([[68,  7, 62, 24],\n",
       "       [98, 73, 72, 77],\n",
       "       [69, 31, 97,  8],\n",
       "       [ 5, 33, 39, 85],\n",
       "       [61, 56, 31, 48],\n",
       "       [51, 68, 10, 71]], dtype=int32)"
      ]
     },
     "execution_count": 28,
     "metadata": {},
     "output_type": "execute_result"
    }
   ],
   "source": [
    "b"
   ]
  },
  {
   "cell_type": "code",
   "execution_count": 29,
   "id": "3549c6d5",
   "metadata": {},
   "outputs": [
    {
     "data": {
      "text/plain": [
       "array([1, 1, 2, 3])"
      ]
     },
     "execution_count": 29,
     "metadata": {},
     "output_type": "execute_result"
    }
   ],
   "source": [
    "np.argmax(b, axis=0)"
   ]
  },
  {
   "cell_type": "code",
   "execution_count": 30,
   "id": "9508caeb",
   "metadata": {},
   "outputs": [
    {
     "data": {
      "text/plain": [
       "array([3, 0, 5, 2])"
      ]
     },
     "execution_count": 30,
     "metadata": {},
     "output_type": "execute_result"
    }
   ],
   "source": [
    "np.argmin(b, axis=0)"
   ]
  },
  {
   "cell_type": "markdown",
   "id": "5f2376f1",
   "metadata": {},
   "source": [
    "### np.cumsum and np.cumprod"
   ]
  },
  {
   "cell_type": "markdown",
   "id": "e4a3f669",
   "metadata": {},
   "source": [
    "- numpy.cumsum() function is used when we want to compute the cumulative sum of array elements over a given axis."
   ]
  },
  {
   "cell_type": "code",
   "execution_count": 31,
   "id": "b38d83ca",
   "metadata": {},
   "outputs": [
    {
     "data": {
      "text/plain": [
       "array([11, 88, 44, 68,  9, 65, 87, 76,  3, 90, 16, 84, 40, 10, 38],\n",
       "      dtype=int32)"
      ]
     },
     "execution_count": 31,
     "metadata": {},
     "output_type": "execute_result"
    }
   ],
   "source": [
    "a"
   ]
  },
  {
   "cell_type": "code",
   "execution_count": 32,
   "id": "cdd52dca",
   "metadata": {},
   "outputs": [
    {
     "data": {
      "text/plain": [
       "array([ 11,  99, 143, 211, 220, 285, 372, 448, 451, 541, 557, 641, 681,\n",
       "       691, 729])"
      ]
     },
     "execution_count": 32,
     "metadata": {},
     "output_type": "execute_result"
    }
   ],
   "source": [
    "np.cumsum(a)"
   ]
  },
  {
   "cell_type": "code",
   "execution_count": 33,
   "id": "779be658",
   "metadata": {},
   "outputs": [
    {
     "data": {
      "text/plain": [
       "array([[68,  7, 62, 24],\n",
       "       [98, 73, 72, 77],\n",
       "       [69, 31, 97,  8],\n",
       "       [ 5, 33, 39, 85],\n",
       "       [61, 56, 31, 48],\n",
       "       [51, 68, 10, 71]], dtype=int32)"
      ]
     },
     "execution_count": 33,
     "metadata": {},
     "output_type": "execute_result"
    }
   ],
   "source": [
    "b"
   ]
  },
  {
   "cell_type": "code",
   "execution_count": 34,
   "id": "9079041d",
   "metadata": {},
   "outputs": [
    {
     "data": {
      "text/plain": [
       "array([  68,   75,  137,  161,  259,  332,  404,  481,  550,  581,  678,\n",
       "        686,  691,  724,  763,  848,  909,  965,  996, 1044, 1095, 1163,\n",
       "       1173, 1244])"
      ]
     },
     "execution_count": 34,
     "metadata": {},
     "output_type": "execute_result"
    }
   ],
   "source": [
    "np.cumsum(b)"
   ]
  },
  {
   "cell_type": "code",
   "execution_count": 35,
   "id": "766a2180",
   "metadata": {},
   "outputs": [
    {
     "data": {
      "text/plain": [
       "array([[ 68,   7,  62,  24],\n",
       "       [166,  80, 134, 101],\n",
       "       [235, 111, 231, 109],\n",
       "       [240, 144, 270, 194],\n",
       "       [301, 200, 301, 242],\n",
       "       [352, 268, 311, 313]])"
      ]
     },
     "execution_count": 35,
     "metadata": {},
     "output_type": "execute_result"
    }
   ],
   "source": [
    "np.cumsum(b, axis=0)"
   ]
  },
  {
   "cell_type": "code",
   "execution_count": 36,
   "id": "2bfe1e3f",
   "metadata": {},
   "outputs": [
    {
     "data": {
      "text/plain": [
       "array([11, 88, 44, 68,  9, 65, 87, 76,  3, 90, 16, 84, 40, 10, 38],\n",
       "      dtype=int32)"
      ]
     },
     "execution_count": 36,
     "metadata": {},
     "output_type": "execute_result"
    }
   ],
   "source": [
    "a"
   ]
  },
  {
   "cell_type": "code",
   "execution_count": 37,
   "id": "2dbea13d",
   "metadata": {},
   "outputs": [
    {
     "data": {
      "text/plain": [
       "array([                  11,                  968,                42592,\n",
       "                    2896256,             26066304,           1694309760,\n",
       "               147404949120,       11202776133120,       33608328399360,\n",
       "           3024749555942400,    48395992895078400,  4065263403186585600,\n",
       "       -3410160535922540544,  2791882788193697792, -4588918490896793600])"
      ]
     },
     "execution_count": 37,
     "metadata": {},
     "output_type": "execute_result"
    }
   ],
   "source": [
    "np.cumprod(a)"
   ]
  },
  {
   "cell_type": "code",
   "execution_count": 38,
   "id": "aacf44d6",
   "metadata": {},
   "outputs": [
    {
     "data": {
      "text/plain": [
       "array([                  68,                  476,                29512,\n",
       "                     708288,             69412224,           5067092352,\n",
       "               364830649344,       28091959999488,     1938345239964672,\n",
       "          60088702438904832,  5828604136573768704, -8711399128538505216,\n",
       "       -6663507495273422848,  1465181540491665408,  1801847858046296064,\n",
       "        5583115344258752512,  8528642673011974144, -2011356227777789952,\n",
       "       -7011810839982833664, -4525526992404086784,  9005796345615745024,\n",
       "        3651597069455458304,  -377517452864520192, -8356995079671382016])"
      ]
     },
     "execution_count": 38,
     "metadata": {},
     "output_type": "execute_result"
    }
   ],
   "source": [
    "np.cumprod(b)"
   ]
  },
  {
   "cell_type": "markdown",
   "id": "874e53a7",
   "metadata": {},
   "source": [
    "### np.percentile"
   ]
  },
  {
   "cell_type": "markdown",
   "id": "e6b38dfd",
   "metadata": {},
   "source": [
    "- numpy.percentile()function used to compute the nth percentile of the given data (array elements) along the specified axis."
   ]
  },
  {
   "cell_type": "code",
   "execution_count": 39,
   "id": "86b9df70",
   "metadata": {},
   "outputs": [
    {
     "data": {
      "text/plain": [
       "array([11, 88, 44, 68,  9, 65, 87, 76,  3, 90, 16, 84, 40, 10, 38],\n",
       "      dtype=int32)"
      ]
     },
     "execution_count": 39,
     "metadata": {},
     "output_type": "execute_result"
    }
   ],
   "source": [
    "a"
   ]
  },
  {
   "cell_type": "code",
   "execution_count": null,
   "id": "e8989be1",
   "metadata": {},
   "outputs": [
    {
     "data": {
      "text/plain": [
       "np.float64(90.0)"
      ]
     },
     "execution_count": 40,
     "metadata": {},
     "output_type": "execute_result"
    }
   ],
   "source": [
    "np.percentile(a, 100) # max value"
   ]
  },
  {
   "cell_type": "code",
   "execution_count": null,
   "id": "8ad0f8da",
   "metadata": {},
   "outputs": [
    {
     "data": {
      "text/plain": [
       "np.float64(3.0)"
      ]
     },
     "execution_count": 41,
     "metadata": {},
     "output_type": "execute_result"
    }
   ],
   "source": [
    "np.percentile(a, 0) # min vaule"
   ]
  },
  {
   "cell_type": "code",
   "execution_count": null,
   "id": "817cc106",
   "metadata": {},
   "outputs": [
    {
     "data": {
      "text/plain": [
       "np.float64(44.0)"
      ]
     },
     "execution_count": 42,
     "metadata": {},
     "output_type": "execute_result"
    }
   ],
   "source": [
    "np.percentile(a, 50) # median value"
   ]
  },
  {
   "cell_type": "markdown",
   "id": "7e7aced8",
   "metadata": {},
   "source": [
    "### np.histogram"
   ]
  },
  {
   "cell_type": "markdown",
   "id": "296622b3",
   "metadata": {},
   "source": [
    "- Numpy has a built-in numpy.histogram() function which represents the frequency of data distribution in the graphical form."
   ]
  },
  {
   "cell_type": "code",
   "execution_count": 43,
   "id": "b465e87b",
   "metadata": {},
   "outputs": [
    {
     "data": {
      "text/plain": [
       "array([11, 88, 44, 68,  9, 65, 87, 76,  3, 90, 16, 84, 40, 10, 38],\n",
       "      dtype=int32)"
      ]
     },
     "execution_count": 43,
     "metadata": {},
     "output_type": "execute_result"
    }
   ],
   "source": [
    "a"
   ]
  },
  {
   "cell_type": "code",
   "execution_count": 44,
   "id": "6a32745b",
   "metadata": {},
   "outputs": [
    {
     "data": {
      "text/plain": [
       "(array([8, 7]), array([  0,  50, 100]))"
      ]
     },
     "execution_count": 44,
     "metadata": {},
     "output_type": "execute_result"
    }
   ],
   "source": [
    "np.histogram(a, bins=[0, 50, 100])"
   ]
  },
  {
   "cell_type": "markdown",
   "id": "33161791",
   "metadata": {},
   "source": [
    "### np.corrcoef"
   ]
  },
  {
   "cell_type": "markdown",
   "id": "7d0ee38f",
   "metadata": {},
   "source": [
    "- Return Pearson product-moment correlation coefficients."
   ]
  },
  {
   "cell_type": "code",
   "execution_count": 45,
   "id": "22324fff",
   "metadata": {},
   "outputs": [
    {
     "data": {
      "text/plain": [
       "array([[1.        , 0.25344572],\n",
       "       [0.25344572, 1.        ]])"
      ]
     },
     "execution_count": 45,
     "metadata": {},
     "output_type": "execute_result"
    }
   ],
   "source": [
    "salary = np.array([20000, 40000, 25000, 35000, 60000])\n",
    "experience = np.array([1, 3, 2, 4, 2])\n",
    "\n",
    "np.corrcoef(salary, experience)"
   ]
  },
  {
   "cell_type": "markdown",
   "id": "d1c585c7",
   "metadata": {},
   "source": [
    "### np.isin"
   ]
  },
  {
   "cell_type": "markdown",
   "id": "8b9925a4",
   "metadata": {},
   "source": [
    "- with the help of numpy.isin()method,we can see that one array having values are checked in a different numpy array having\n",
    "different elements with different size."
   ]
  },
  {
   "cell_type": "code",
   "execution_count": 47,
   "id": "0eab0cb5",
   "metadata": {},
   "outputs": [
    {
     "data": {
      "text/plain": [
       "array([11, 88, 44, 68,  9, 65, 87, 76,  3, 90, 16, 84, 40, 10, 38],\n",
       "      dtype=int32)"
      ]
     },
     "execution_count": 47,
     "metadata": {},
     "output_type": "execute_result"
    }
   ],
   "source": [
    "a"
   ]
  },
  {
   "cell_type": "code",
   "execution_count": 48,
   "id": "e7cfdd17",
   "metadata": {},
   "outputs": [
    {
     "data": {
      "text/plain": [
       "array([False, False, False, False, False, False, False, False, False,\n",
       "        True, False, False,  True,  True, False])"
      ]
     },
     "execution_count": 48,
     "metadata": {},
     "output_type": "execute_result"
    }
   ],
   "source": [
    "items = [10, 20, 30, 40, 50, 60, 70, 80, 90, 100]\n",
    "np.isin(a, items)"
   ]
  },
  {
   "cell_type": "code",
   "execution_count": 49,
   "id": "c4fc8f04",
   "metadata": {},
   "outputs": [
    {
     "data": {
      "text/plain": [
       "array([90, 40, 10], dtype=int32)"
      ]
     },
     "execution_count": 49,
     "metadata": {},
     "output_type": "execute_result"
    }
   ],
   "source": [
    "a[np.isin(a, items)]"
   ]
  },
  {
   "cell_type": "markdown",
   "id": "be1bb2f5",
   "metadata": {},
   "source": [
    "### np.flip"
   ]
  },
  {
   "cell_type": "markdown",
   "id": "a35ca8cd",
   "metadata": {},
   "source": [
    "- The numpy.flip() function reverse the order of array elements along the specified axis,preserving the shape of the array."
   ]
  },
  {
   "cell_type": "code",
   "execution_count": 50,
   "id": "ebd854fa",
   "metadata": {},
   "outputs": [
    {
     "data": {
      "text/plain": [
       "array([11, 88, 44, 68,  9, 65, 87, 76,  3, 90, 16, 84, 40, 10, 38],\n",
       "      dtype=int32)"
      ]
     },
     "execution_count": 50,
     "metadata": {},
     "output_type": "execute_result"
    }
   ],
   "source": [
    "a"
   ]
  },
  {
   "cell_type": "code",
   "execution_count": 51,
   "id": "c4df0488",
   "metadata": {},
   "outputs": [
    {
     "data": {
      "text/plain": [
       "array([38, 10, 40, 84, 16, 90,  3, 76, 87, 65,  9, 68, 44, 88, 11],\n",
       "      dtype=int32)"
      ]
     },
     "execution_count": 51,
     "metadata": {},
     "output_type": "execute_result"
    }
   ],
   "source": [
    "np.flip(a)"
   ]
  },
  {
   "cell_type": "code",
   "execution_count": 52,
   "id": "4b22b0c3",
   "metadata": {},
   "outputs": [
    {
     "data": {
      "text/plain": [
       "array([[68,  7, 62, 24],\n",
       "       [98, 73, 72, 77],\n",
       "       [69, 31, 97,  8],\n",
       "       [ 5, 33, 39, 85],\n",
       "       [61, 56, 31, 48],\n",
       "       [51, 68, 10, 71]], dtype=int32)"
      ]
     },
     "execution_count": 52,
     "metadata": {},
     "output_type": "execute_result"
    }
   ],
   "source": [
    "b"
   ]
  },
  {
   "cell_type": "code",
   "execution_count": 53,
   "id": "6ef15cdb",
   "metadata": {},
   "outputs": [
    {
     "data": {
      "text/plain": [
       "array([[71, 10, 68, 51],\n",
       "       [48, 31, 56, 61],\n",
       "       [85, 39, 33,  5],\n",
       "       [ 8, 97, 31, 69],\n",
       "       [77, 72, 73, 98],\n",
       "       [24, 62,  7, 68]], dtype=int32)"
      ]
     },
     "execution_count": 53,
     "metadata": {},
     "output_type": "execute_result"
    }
   ],
   "source": [
    "np.flip(b)"
   ]
  },
  {
   "cell_type": "markdown",
   "id": "927b7ab6",
   "metadata": {},
   "source": [
    "### np.put"
   ]
  },
  {
   "cell_type": "markdown",
   "id": "edf64eae",
   "metadata": {},
   "source": [
    "- The numpy.put() function replaces specific elements of an array with given value of p_array.Array indexed works on flattened\n",
    "array."
   ]
  },
  {
   "cell_type": "code",
   "execution_count": 54,
   "id": "1519bbf3",
   "metadata": {},
   "outputs": [
    {
     "data": {
      "text/plain": [
       "array([11, 88, 44, 68,  9, 65, 87, 76,  3, 90, 16, 84, 40, 10, 38],\n",
       "      dtype=int32)"
      ]
     },
     "execution_count": 54,
     "metadata": {},
     "output_type": "execute_result"
    }
   ],
   "source": [
    "a"
   ]
  },
  {
   "cell_type": "code",
   "execution_count": null,
   "id": "c89e832b",
   "metadata": {},
   "outputs": [],
   "source": [
    "np.put(a, [0, 1], [110, 530]) # this method should permanent change print again"
   ]
  },
  {
   "cell_type": "code",
   "execution_count": 57,
   "id": "80defa54",
   "metadata": {},
   "outputs": [
    {
     "data": {
      "text/plain": [
       "array([110, 530,  44,  68,   9,  65,  87,  76,   3,  90,  16,  84,  40,\n",
       "        10,  38], dtype=int32)"
      ]
     },
     "execution_count": 57,
     "metadata": {},
     "output_type": "execute_result"
    }
   ],
   "source": [
    "a"
   ]
  },
  {
   "cell_type": "markdown",
   "id": "38931467",
   "metadata": {},
   "source": [
    "### np.delete"
   ]
  },
  {
   "cell_type": "markdown",
   "id": "9a7e465a",
   "metadata": {},
   "source": [
    "- The numpy.delete() function returns a new array with the deletion of sub-arrays along with the mentioned axis."
   ]
  },
  {
   "cell_type": "code",
   "execution_count": 58,
   "id": "d9862472",
   "metadata": {},
   "outputs": [
    {
     "data": {
      "text/plain": [
       "array([110, 530,  44,  68,   9,  65,  87,  76,   3,  90,  16,  84,  40,\n",
       "        10,  38], dtype=int32)"
      ]
     },
     "execution_count": 58,
     "metadata": {},
     "output_type": "execute_result"
    }
   ],
   "source": [
    "a"
   ]
  },
  {
   "cell_type": "code",
   "execution_count": 59,
   "id": "7f617d37",
   "metadata": {},
   "outputs": [
    {
     "data": {
      "text/plain": [
       "array([530,  44,  68,   9,  65,  87,  76,   3,  90,  16,  84,  40,  10,\n",
       "        38], dtype=int32)"
      ]
     },
     "execution_count": 59,
     "metadata": {},
     "output_type": "execute_result"
    }
   ],
   "source": [
    "np.delete(a, 0)"
   ]
  },
  {
   "cell_type": "code",
   "execution_count": 60,
   "id": "32ef69fd",
   "metadata": {},
   "outputs": [
    {
     "data": {
      "text/plain": [
       "array([530,  44,  68,  87,  76,   3,  90,  16,  84,  40,  10,  38],\n",
       "      dtype=int32)"
      ]
     },
     "execution_count": 60,
     "metadata": {},
     "output_type": "execute_result"
    }
   ],
   "source": [
    "np.delete(a, [0, 4, 5])"
   ]
  },
  {
   "cell_type": "markdown",
   "id": "a4a8fb4f",
   "metadata": {},
   "source": [
    "### Set Functions\n"
   ]
  },
  {
   "cell_type": "markdown",
   "id": "8429f092",
   "metadata": {},
   "source": [
    "- np.union1d\n",
    "- np.intersect1d\n",
    "- np.setdiff1d\n",
    "- np.setxor1d\n",
    "- np.in1d"
   ]
  },
  {
   "cell_type": "code",
   "execution_count": 61,
   "id": "42ca01fb",
   "metadata": {},
   "outputs": [
    {
     "data": {
      "text/plain": [
       "array([1, 2, 3, 4, 5, 6, 7])"
      ]
     },
     "execution_count": 61,
     "metadata": {},
     "output_type": "execute_result"
    }
   ],
   "source": [
    "m = np.array([1, 2, 3, 4, 5])\n",
    "n = np.array([3, 4, 5, 6, 7])\n",
    "\n",
    "np.union1d(m, n)"
   ]
  },
  {
   "cell_type": "code",
   "execution_count": 62,
   "id": "225bbad9",
   "metadata": {},
   "outputs": [
    {
     "data": {
      "text/plain": [
       "array([3, 4, 5])"
      ]
     },
     "execution_count": 62,
     "metadata": {},
     "output_type": "execute_result"
    }
   ],
   "source": [
    "np.intersect1d(m, n)"
   ]
  },
  {
   "cell_type": "code",
   "execution_count": 64,
   "id": "fd55f22b",
   "metadata": {},
   "outputs": [
    {
     "data": {
      "text/plain": [
       "array([1, 2])"
      ]
     },
     "execution_count": 64,
     "metadata": {},
     "output_type": "execute_result"
    }
   ],
   "source": [
    "np.setdiff1d(m, n)"
   ]
  },
  {
   "cell_type": "code",
   "execution_count": 65,
   "id": "7ba0ec21",
   "metadata": {},
   "outputs": [
    {
     "data": {
      "text/plain": [
       "array([1, 2, 6, 7])"
      ]
     },
     "execution_count": 65,
     "metadata": {},
     "output_type": "execute_result"
    }
   ],
   "source": [
    "np.setxor1d(m, n)"
   ]
  },
  {
   "cell_type": "code",
   "execution_count": 66,
   "id": "0f9c611c",
   "metadata": {},
   "outputs": [
    {
     "name": "stderr",
     "output_type": "stream",
     "text": [
      "C:\\Users\\pramo\\AppData\\Local\\Temp\\ipykernel_16424\\1640649773.py:1: DeprecationWarning: `in1d` is deprecated. Use `np.isin` instead.\n",
      "  np.in1d(m, 10)\n"
     ]
    },
    {
     "data": {
      "text/plain": [
       "array([False, False, False, False, False])"
      ]
     },
     "execution_count": 66,
     "metadata": {},
     "output_type": "execute_result"
    }
   ],
   "source": [
    "np.in1d(m, 10)"
   ]
  }
 ],
 "metadata": {
  "kernelspec": {
   "display_name": "Python 3",
   "language": "python",
   "name": "python3"
  },
  "language_info": {
   "codemirror_mode": {
    "name": "ipython",
    "version": 3
   },
   "file_extension": ".py",
   "mimetype": "text/x-python",
   "name": "python",
   "nbconvert_exporter": "python",
   "pygments_lexer": "ipython3",
   "version": "3.10.11"
  }
 },
 "nbformat": 4,
 "nbformat_minor": 5
}
