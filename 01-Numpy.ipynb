{
 "cells": [
  {
   "cell_type": "markdown",
   "id": "f72f2d37",
   "metadata": {},
   "source": [
    "# What is Numpy?\n"
   ]
  },
  {
   "cell_type": "markdown",
   "id": "b6cc0e1f",
   "metadata": {},
   "source": [
    "Numpy is the fundamental package for scientific computing in python.It is a python library that\n",
    "provides a multidimensional array object, various dervied objects(such as masked arrays and\n",
    "matrices), and an assortment of routines for fast operations on arrays, including mathematical,\n",
    "logical,shape manipulation,sorting,selecting,I/O,discrete Fourier transforms,basics linear algebra\n",
    ",basic statistical operation,random simulation and much more.\n",
    " At the core of the NUmpy package, is the ndarray object.This encapsulates arrays of homogeneous\n",
    " data types.\n"
   ]
  },
  {
   "cell_type": "markdown",
   "id": "8813df21",
   "metadata": {},
   "source": [
    "# NUMPY ARRAYS VS PYTHON SEQUENCES"
   ]
  },
  {
   "cell_type": "markdown",
   "id": "794475d6",
   "metadata": {},
   "source": [
    "- Numpy arrays have a fixed size at creation, unlike python lists(which can grow dynamically).\n",
    "changing the size of an ndarray will create a new array and delete the original.\n",
    "- The elements in a Numpy array are all required to be the same data type,and thus will be the same\n",
    "size in memory.\n",
    "- Numpy arrays facilites advanced mathematical and other types of operations on large number of\n",
    "data .Typically ,such operations are executed more efficient and with less code than is possible\n",
    "using python built-in sequence.\n",
    "- A growing plethora of scientific and mathematical python-based package are using Numpy arrays.\n",
    "though these typically support python-sequence input;they convert such input  to NUMpy arrays prior\n",
    "to processing , and they often output Numpy arrays."
   ]
  },
  {
   "cell_type": "markdown",
   "id": "17f90ab6",
   "metadata": {},
   "source": [
    "# Creating Numpy Arrays"
   ]
  },
  {
   "cell_type": "code",
   "execution_count": 2,
   "id": "af48ec88",
   "metadata": {},
   "outputs": [
    {
     "data": {
      "text/plain": [
       "array([1, 2, 3])"
      ]
     },
     "execution_count": 2,
     "metadata": {},
     "output_type": "execute_result"
    }
   ],
   "source": [
    "# np.array/ 1D array\n",
    "import numpy as np\n",
    "\n",
    "a = np.array([1, 2, 3])\n",
    "a"
   ]
  },
  {
   "cell_type": "code",
   "execution_count": 3,
   "id": "c4f77c58",
   "metadata": {},
   "outputs": [
    {
     "data": {
      "text/plain": [
       "array([[1, 2, 3],\n",
       "       [4, 5, 6]])"
      ]
     },
     "execution_count": 3,
     "metadata": {},
     "output_type": "execute_result"
    }
   ],
   "source": [
    "# 2D array\n",
    "b = np.array([[1, 2, 3], [4, 5, 6]])\n",
    "b"
   ]
  },
  {
   "cell_type": "code",
   "execution_count": 4,
   "id": "c0443d8b",
   "metadata": {},
   "outputs": [
    {
     "data": {
      "text/plain": [
       "array([[[1, 2, 3],\n",
       "        [4, 5, 6],\n",
       "        [7, 8, 9]]])"
      ]
     },
     "execution_count": 4,
     "metadata": {},
     "output_type": "execute_result"
    }
   ],
   "source": [
    "# 3D array\n",
    "c = np.array([[[1, 2, 3], [4, 5, 6], [7, 8, 9]]])\n",
    "c"
   ]
  },
  {
   "cell_type": "code",
   "execution_count": 5,
   "id": "b73dc645",
   "metadata": {},
   "outputs": [
    {
     "data": {
      "text/plain": [
       "array([ True,  True,  True])"
      ]
     },
     "execution_count": 5,
     "metadata": {},
     "output_type": "execute_result"
    }
   ],
   "source": [
    "# dtype/change into anything like float,bool\n",
    "a = np.array([1, 2, 3], dtype=bool)\n",
    "a"
   ]
  },
  {
   "cell_type": "code",
   "execution_count": 6,
   "id": "e78c4517",
   "metadata": {},
   "outputs": [
    {
     "data": {
      "text/plain": [
       "array([ True,  True,  True])"
      ]
     },
     "execution_count": 6,
     "metadata": {},
     "output_type": "execute_result"
    }
   ],
   "source": [
    "b = np.array([1, 2, 3], dtype=float)\n",
    "a"
   ]
  },
  {
   "cell_type": "code",
   "execution_count": 7,
   "id": "5c4ec60a",
   "metadata": {},
   "outputs": [
    {
     "data": {
      "text/plain": [
       "array([1.+0.j, 2.+0.j, 3.+0.j])"
      ]
     },
     "execution_count": 7,
     "metadata": {},
     "output_type": "execute_result"
    }
   ],
   "source": [
    "b = np.array([1, 2, 3], dtype=complex)\n",
    "b"
   ]
  },
  {
   "cell_type": "code",
   "execution_count": 8,
   "id": "be9ecb5b",
   "metadata": {},
   "outputs": [
    {
     "data": {
      "text/plain": [
       "array([ 1,  2,  3,  4,  5,  6,  7,  8,  9, 10])"
      ]
     },
     "execution_count": 8,
     "metadata": {},
     "output_type": "execute_result"
    }
   ],
   "source": [
    "# np.arange\n",
    "a = np.arange(1, 11)\n",
    "a"
   ]
  },
  {
   "cell_type": "code",
   "execution_count": 9,
   "id": "a1d70dce",
   "metadata": {},
   "outputs": [
    {
     "data": {
      "text/plain": [
       "array([1, 3, 5, 7, 9])"
      ]
     },
     "execution_count": 9,
     "metadata": {},
     "output_type": "execute_result"
    }
   ],
   "source": [
    "b = np.arange(1, 11, 2)\n",
    "b"
   ]
  },
  {
   "cell_type": "code",
   "execution_count": 10,
   "id": "95db6eca",
   "metadata": {},
   "outputs": [
    {
     "data": {
      "text/plain": [
       "array([[1, 2, 3],\n",
       "       [4, 5, 6],\n",
       "       [7, 8, 9]])"
      ]
     },
     "execution_count": 10,
     "metadata": {},
     "output_type": "execute_result"
    }
   ],
   "source": [
    "# with reshape/ To shape 3*3 matrics\n",
    "a = np.arange(1, 10).reshape(3, 3)\n",
    "a"
   ]
  },
  {
   "cell_type": "code",
   "execution_count": 11,
   "id": "5f77d84e",
   "metadata": {},
   "outputs": [
    {
     "data": {
      "text/plain": [
       "array([[1., 1., 1.],\n",
       "       [1., 1., 1.],\n",
       "       [1., 1., 1.]])"
      ]
     },
     "execution_count": 11,
     "metadata": {},
     "output_type": "execute_result"
    }
   ],
   "source": [
    "# np.ones/ in tuples\n",
    "a = np.ones((3, 3))\n",
    "a"
   ]
  },
  {
   "cell_type": "code",
   "execution_count": 12,
   "id": "791003cb",
   "metadata": {},
   "outputs": [
    {
     "data": {
      "text/plain": [
       "array([[0., 0., 0.],\n",
       "       [0., 0., 0.],\n",
       "       [0., 0., 0.]])"
      ]
     },
     "execution_count": 12,
     "metadata": {},
     "output_type": "execute_result"
    }
   ],
   "source": [
    "# np.zeros\n",
    "b = np.zeros((3, 3))\n",
    "b"
   ]
  },
  {
   "cell_type": "code",
   "execution_count": 13,
   "id": "04cd2775",
   "metadata": {},
   "outputs": [
    {
     "data": {
      "text/plain": [
       "array([[0.06125705, 0.79316744, 0.47311374],\n",
       "       [0.69853158, 0.50927609, 0.02315448],\n",
       "       [0.93972343, 0.26669811, 0.15177269]])"
      ]
     },
     "execution_count": 13,
     "metadata": {},
     "output_type": "execute_result"
    }
   ],
   "source": [
    "# np.random\n",
    "c = np.random.random((3, 3))\n",
    "c"
   ]
  },
  {
   "cell_type": "code",
   "execution_count": 14,
   "id": "f8b92954",
   "metadata": {},
   "outputs": [
    {
     "data": {
      "text/plain": [
       "array([-10.        ,  -7.77777778,  -5.55555556,  -3.33333333,\n",
       "        -1.11111111,   1.11111111,   3.33333333,   5.55555556,\n",
       "         7.77777778,  10.        ])"
      ]
     },
     "execution_count": 14,
     "metadata": {},
     "output_type": "execute_result"
    }
   ],
   "source": [
    "# np.linspace\n",
    "a = np.linspace(-10, 10, 10)\n",
    "a"
   ]
  },
  {
   "cell_type": "code",
   "execution_count": 15,
   "id": "787a0b7a",
   "metadata": {},
   "outputs": [
    {
     "data": {
      "text/plain": [
       "array([-10,  -8,  -6,  -4,  -2,   1,   3,   5,   7,  10])"
      ]
     },
     "execution_count": 15,
     "metadata": {},
     "output_type": "execute_result"
    }
   ],
   "source": [
    "a = np.linspace(-10, 10, 10, dtype=int)\n",
    "a"
   ]
  },
  {
   "cell_type": "code",
   "execution_count": 16,
   "id": "997981f3",
   "metadata": {},
   "outputs": [
    {
     "data": {
      "text/plain": [
       "array([[1., 0., 0.],\n",
       "       [0., 1., 0.],\n",
       "       [0., 0., 1.]])"
      ]
     },
     "execution_count": 16,
     "metadata": {},
     "output_type": "execute_result"
    }
   ],
   "source": [
    "# np.identify\n",
    "b = np.identity(3)\n",
    "b"
   ]
  },
  {
   "cell_type": "markdown",
   "id": "76617316",
   "metadata": {},
   "source": [
    "### Array Attributes"
   ]
  },
  {
   "cell_type": "code",
   "execution_count": 17,
   "id": "df3e13b7",
   "metadata": {},
   "outputs": [
    {
     "data": {
      "text/plain": [
       "array([[[0, 1],\n",
       "        [2, 3]],\n",
       "\n",
       "       [[4, 5],\n",
       "        [6, 7]]])"
      ]
     },
     "execution_count": 17,
     "metadata": {},
     "output_type": "execute_result"
    }
   ],
   "source": [
    "a1 = np.arange(10, dtype=np.int32)\n",
    "a2 = np.arange(12, dtype=float).reshape(3, 4)\n",
    "a3 = np.arange(8).reshape(2, 2, 2)\n",
    "\n",
    "a3"
   ]
  },
  {
   "cell_type": "code",
   "execution_count": 18,
   "id": "05c6bcfc",
   "metadata": {},
   "outputs": [
    {
     "data": {
      "text/plain": [
       "3"
      ]
     },
     "execution_count": 18,
     "metadata": {},
     "output_type": "execute_result"
    }
   ],
   "source": [
    "# ndim\n",
    "a3.ndim"
   ]
  },
  {
   "cell_type": "code",
   "execution_count": 19,
   "id": "bb241d48",
   "metadata": {},
   "outputs": [
    {
     "data": {
      "text/plain": [
       "12"
      ]
     },
     "execution_count": 19,
     "metadata": {},
     "output_type": "execute_result"
    }
   ],
   "source": [
    "# size\n",
    "a2.size"
   ]
  },
  {
   "cell_type": "code",
   "execution_count": 20,
   "id": "4486dab4",
   "metadata": {},
   "outputs": [
    {
     "data": {
      "text/plain": [
       "8"
      ]
     },
     "execution_count": 20,
     "metadata": {},
     "output_type": "execute_result"
    }
   ],
   "source": [
    "# itemsize\n",
    "a3.itemsize"
   ]
  },
  {
   "cell_type": "code",
   "execution_count": 21,
   "id": "e05b716d",
   "metadata": {},
   "outputs": [
    {
     "data": {
      "text/plain": [
       "dtype('int64')"
      ]
     },
     "execution_count": 21,
     "metadata": {},
     "output_type": "execute_result"
    }
   ],
   "source": [
    "# dtype\n",
    "a1.dtype\n",
    "a2.dtype\n",
    "a3.dtype"
   ]
  },
  {
   "cell_type": "markdown",
   "id": "c6a1b646",
   "metadata": {},
   "source": [
    "### Changing Datatype"
   ]
  },
  {
   "cell_type": "code",
   "execution_count": 22,
   "id": "c0e8b09f",
   "metadata": {},
   "outputs": [
    {
     "data": {
      "text/plain": [
       "array([[[0, 1],\n",
       "        [2, 3]],\n",
       "\n",
       "       [[4, 5],\n",
       "        [6, 7]]], dtype=int32)"
      ]
     },
     "execution_count": 22,
     "metadata": {},
     "output_type": "execute_result"
    }
   ],
   "source": [
    "# astype\n",
    "a3.astype(np.int32)"
   ]
  },
  {
   "cell_type": "markdown",
   "id": "bb676c71",
   "metadata": {},
   "source": [
    "### Array Operation"
   ]
  },
  {
   "cell_type": "code",
   "execution_count": 23,
   "id": "ea0874a9",
   "metadata": {},
   "outputs": [
    {
     "name": "stdout",
     "output_type": "stream",
     "text": [
      "[[ 0  1  2  3]\n",
      " [ 4  5  6  7]\n",
      " [ 8  9 10 11]]\n"
     ]
    },
    {
     "data": {
      "text/plain": [
       "array([[12, 13, 14, 15],\n",
       "       [16, 17, 18, 19],\n",
       "       [20, 21, 22, 23]])"
      ]
     },
     "execution_count": 23,
     "metadata": {},
     "output_type": "execute_result"
    }
   ],
   "source": [
    "a1 = np.arange(12).reshape(3, 4)\n",
    "a2 = np.arange(12, 24).reshape(3, 4)\n",
    "print(a1)\n",
    "a2"
   ]
  },
  {
   "cell_type": "code",
   "execution_count": 24,
   "id": "b6556cb2",
   "metadata": {},
   "outputs": [
    {
     "name": "stdout",
     "output_type": "stream",
     "text": [
      "[[ 0  2  4  6]\n",
      " [ 8 10 12 14]\n",
      " [16 18 20 22]]\n"
     ]
    },
    {
     "data": {
      "text/plain": [
       "array([[24, 26, 28, 30],\n",
       "       [32, 34, 36, 38],\n",
       "       [40, 42, 44, 46]])"
      ]
     },
     "execution_count": 24,
     "metadata": {},
     "output_type": "execute_result"
    }
   ],
   "source": [
    "# Scalar operation\n",
    "\n",
    "#  ALL Arithmetic are allow like + - * / // %\n",
    "print(a1 * 2)\n",
    "a2 * 2"
   ]
  },
  {
   "cell_type": "code",
   "execution_count": 25,
   "id": "dd47cc8a",
   "metadata": {},
   "outputs": [
    {
     "name": "stdout",
     "output_type": "stream",
     "text": [
      "[[False False False False]\n",
      " [False False False False]\n",
      " [False False False False]]\n",
      "\n",
      "[[False False False False]\n",
      " [False  True  True  True]\n",
      " [ True  True  True  True]]\n"
     ]
    },
    {
     "data": {
      "text/plain": [
       "array([[False, False, False, False],\n",
       "       [False, False, False, False],\n",
       "       [False, False,  True, False]])"
      ]
     },
     "execution_count": 25,
     "metadata": {},
     "output_type": "execute_result"
    }
   ],
   "source": [
    "# relational\n",
    "print(a1 > 15)\n",
    "print()\n",
    "print(a1 > 4)\n",
    "a1 == 10"
   ]
  },
  {
   "cell_type": "code",
   "execution_count": 26,
   "id": "e6e2ab05",
   "metadata": {},
   "outputs": [
    {
     "name": "stdout",
     "output_type": "stream",
     "text": [
      "[[ 0  1  2  3]\n",
      " [ 4  5  6  7]\n",
      " [ 8  9 10 11]]\n",
      "\n",
      "[[12 13 14 15]\n",
      " [16 17 18 19]\n",
      " [20 21 22 23]]\n",
      "\n"
     ]
    },
    {
     "data": {
      "text/plain": [
       "array([[12, 14, 16, 18],\n",
       "       [20, 22, 24, 26],\n",
       "       [28, 30, 32, 34]])"
      ]
     },
     "execution_count": 26,
     "metadata": {},
     "output_type": "execute_result"
    }
   ],
   "source": [
    "# vector operations\n",
    "# arithmetic are allow like + - * / // %\n",
    "print(a1)\n",
    "print()\n",
    "print(a2)\n",
    "print()\n",
    "a1 + a2"
   ]
  },
  {
   "cell_type": "markdown",
   "id": "685d869e",
   "metadata": {},
   "source": [
    "### Array Function"
   ]
  },
  {
   "cell_type": "code",
   "execution_count": 28,
   "id": "cf3ca520",
   "metadata": {},
   "outputs": [
    {
     "data": {
      "text/plain": [
       "array([[ 41., 100.,  21.],\n",
       "       [ 47.,  28.,  25.],\n",
       "       [ 29.,  18.,  21.]])"
      ]
     },
     "execution_count": 28,
     "metadata": {},
     "output_type": "execute_result"
    }
   ],
   "source": [
    "a1 = np.random.random((3, 3))\n",
    "a1 = np.round(a1 * 100)\n",
    "a1"
   ]
  },
  {
   "cell_type": "code",
   "execution_count": 31,
   "id": "ed44ada8",
   "metadata": {},
   "outputs": [
    {
     "name": "stdout",
     "output_type": "stream",
     "text": [
      "100.0\n",
      "18.0\n",
      "330.0\n"
     ]
    },
    {
     "data": {
      "text/plain": [
       "np.float64(31051947780000.0)"
      ]
     },
     "execution_count": 31,
     "metadata": {},
     "output_type": "execute_result"
    }
   ],
   "source": [
    "# max/min/sum/product(prod)\n",
    "print(np.max(a1))\n",
    "print(np.min(a1))\n",
    "print(np.sum(a1))\n",
    "np.prod(a1)"
   ]
  },
  {
   "cell_type": "code",
   "execution_count": 37,
   "id": "76f8797e",
   "metadata": {},
   "outputs": [
    {
     "name": "stdout",
     "output_type": "stream",
     "text": [
      "[100.  47.  29.]\n",
      "[ 47. 100.  25.]\n",
      "[162. 100.  68.]\n",
      "[117. 146.  67.]\n"
     ]
    }
   ],
   "source": [
    "# max/min/sum/product(prod)\n",
    "# 0-> coloum and 1-> Row\n",
    "print(np.max(a1, axis=1))\n",
    "print(np.max(a1, axis=0))\n",
    "print(np.sum(a1, axis=1))\n",
    "print(np.sum(a1, axis=0))"
   ]
  },
  {
   "cell_type": "code",
   "execution_count": 42,
   "id": "6a562191",
   "metadata": {},
   "outputs": [
    {
     "name": "stdout",
     "output_type": "stream",
     "text": [
      "36.666666666666664\n",
      "[54.         33.33333333 22.66666667]\n",
      "28.0\n",
      "24.143091949642425\n"
     ]
    },
    {
     "data": {
      "text/plain": [
       "np.float64(582.8888888888889)"
      ]
     },
     "execution_count": 42,
     "metadata": {},
     "output_type": "execute_result"
    }
   ],
   "source": [
    "# mean/median/std/var\n",
    "print(np.mean(a1))\n",
    "print(np.mean(a1, axis=1))  # row wise mean value\n",
    "print(np.median(a1))\n",
    "print(np.std(a1))\n",
    "np.var(a1)"
   ]
  },
  {
   "cell_type": "code",
   "execution_count": 44,
   "id": "27cc3dfa",
   "metadata": {},
   "outputs": [
    {
     "data": {
      "text/plain": [
       "array([[-0.15862267, -0.50636564,  0.83665564],\n",
       "       [ 0.12357312,  0.27090579, -0.13235175],\n",
       "       [-0.66363388, -0.75098725,  0.83665564]])"
      ]
     },
     "execution_count": 44,
     "metadata": {},
     "output_type": "execute_result"
    }
   ],
   "source": [
    "# trigonomoetic functions\n",
    "np.sin(a1)"
   ]
  },
  {
   "cell_type": "code",
   "execution_count": 48,
   "id": "047b9f29",
   "metadata": {},
   "outputs": [
    {
     "name": "stdout",
     "output_type": "stream",
     "text": [
      "[[ 0  1  2  3]\n",
      " [ 4  5  6  7]\n",
      " [ 8  9 10 11]]\n",
      "\n",
      "[[12 13 14]\n",
      " [15 16 17]\n",
      " [18 19 20]\n",
      " [21 22 23]]\n",
      "\n",
      "[[114 120 126]\n",
      " [378 400 422]\n",
      " [642 680 718]]\n"
     ]
    }
   ],
   "source": [
    "# dot product\n",
    "a2 = np.arange(12).reshape(3, 4)\n",
    "print(a2)\n",
    "print()\n",
    "a3 = np.arange(12, 24).reshape(4, 3)\n",
    "print(a3)\n",
    "print()\n",
    "print(np.dot(a2, a3))"
   ]
  },
  {
   "cell_type": "code",
   "execution_count": 50,
   "id": "f7422eb0",
   "metadata": {},
   "outputs": [
    {
     "name": "stdout",
     "output_type": "stream",
     "text": [
      "[[3.71357207 4.60517019 3.04452244]\n",
      " [3.8501476  3.33220451 3.21887582]\n",
      " [3.36729583 2.89037176 3.04452244]]\n"
     ]
    },
    {
     "data": {
      "text/plain": [
       "array([[6.39843494e+17, 2.68811714e+43, 1.31881573e+09],\n",
       "       [2.58131289e+20, 1.44625706e+12, 7.20048993e+10],\n",
       "       [3.93133430e+12, 6.56599691e+07, 1.31881573e+09]])"
      ]
     },
     "execution_count": 50,
     "metadata": {},
     "output_type": "execute_result"
    }
   ],
   "source": [
    "# log and exponents\n",
    "print(np.log(a1))\n",
    "np.exp(a1)"
   ]
  },
  {
   "cell_type": "code",
   "execution_count": 54,
   "id": "71a78fde",
   "metadata": {},
   "outputs": [
    {
     "data": {
      "text/plain": [
       "array([[52., 13., 25.],\n",
       "       [ 7., 86., 96.]])"
      ]
     },
     "execution_count": 54,
     "metadata": {},
     "output_type": "execute_result"
    }
   ],
   "source": [
    "# round/floor/ceil\n",
    "np.round(np.random.random((2, 3)) * 100)\n",
    "np.floor(np.random.random((2, 3)) * 100)\n",
    "np.ceil(np.random.random((2, 3)) * 100)"
   ]
  },
  {
   "cell_type": "markdown",
   "id": "b91e9b2a",
   "metadata": {},
   "source": [
    "### Indexing and slicing"
   ]
  },
  {
   "cell_type": "code",
   "execution_count": 56,
   "id": "0d1cd9c4",
   "metadata": {},
   "outputs": [
    {
     "name": "stdout",
     "output_type": "stream",
     "text": [
      "[0 1 2 3 4 5 6 7 8 9]\n",
      "\n",
      "[[ 0  1  2  3]\n",
      " [ 4  5  6  7]\n",
      " [ 8  9 10 11]]\n",
      "\n"
     ]
    },
    {
     "data": {
      "text/plain": [
       "array([[[0, 1],\n",
       "        [2, 3]],\n",
       "\n",
       "       [[4, 5],\n",
       "        [6, 7]]])"
      ]
     },
     "execution_count": 56,
     "metadata": {},
     "output_type": "execute_result"
    }
   ],
   "source": [
    "a1 = np.arange(10)\n",
    "a2 = np.arange(12).reshape(3, 4)\n",
    "a3 = np.arange(8).reshape(2, 2, 2)\n",
    "print(a1)  # 1D\n",
    "print()\n",
    "print(a2)  # 2D\n",
    "print()\n",
    "a3  # 3D"
   ]
  },
  {
   "cell_type": "code",
   "execution_count": 58,
   "id": "be173436",
   "metadata": {},
   "outputs": [
    {
     "data": {
      "text/plain": [
       "array([0, 1, 2, 3, 4, 5, 6, 7, 8, 9])"
      ]
     },
     "execution_count": 58,
     "metadata": {},
     "output_type": "execute_result"
    }
   ],
   "source": [
    "a1"
   ]
  },
  {
   "cell_type": "code",
   "execution_count": 60,
   "id": "69a361c0",
   "metadata": {},
   "outputs": [
    {
     "data": {
      "text/plain": [
       "np.int64(9)"
      ]
     },
     "execution_count": 60,
     "metadata": {},
     "output_type": "execute_result"
    }
   ],
   "source": [
    "a1[-1]"
   ]
  },
  {
   "cell_type": "code",
   "execution_count": 61,
   "id": "25a483b1",
   "metadata": {},
   "outputs": [
    {
     "data": {
      "text/plain": [
       "np.int64(0)"
      ]
     },
     "execution_count": 61,
     "metadata": {},
     "output_type": "execute_result"
    }
   ],
   "source": [
    "a1[0]"
   ]
  },
  {
   "cell_type": "code",
   "execution_count": 62,
   "id": "28356e41",
   "metadata": {},
   "outputs": [
    {
     "data": {
      "text/plain": [
       "array([[ 0,  1,  2,  3],\n",
       "       [ 4,  5,  6,  7],\n",
       "       [ 8,  9, 10, 11]])"
      ]
     },
     "execution_count": 62,
     "metadata": {},
     "output_type": "execute_result"
    }
   ],
   "source": [
    "a2"
   ]
  },
  {
   "cell_type": "code",
   "execution_count": 64,
   "id": "1b70c99c",
   "metadata": {},
   "outputs": [
    {
     "data": {
      "text/plain": [
       "np.int64(6)"
      ]
     },
     "execution_count": 64,
     "metadata": {},
     "output_type": "execute_result"
    }
   ],
   "source": [
    "a2[1, 2]  # 1 for row and 2 for coloum"
   ]
  },
  {
   "cell_type": "code",
   "execution_count": 65,
   "id": "e81c100e",
   "metadata": {},
   "outputs": [
    {
     "data": {
      "text/plain": [
       "array([[[0, 1],\n",
       "        [2, 3]],\n",
       "\n",
       "       [[4, 5],\n",
       "        [6, 7]]])"
      ]
     },
     "execution_count": 65,
     "metadata": {},
     "output_type": "execute_result"
    }
   ],
   "source": [
    "a3"
   ]
  },
  {
   "cell_type": "code",
   "execution_count": 67,
   "id": "7dc19a55",
   "metadata": {},
   "outputs": [
    {
     "data": {
      "text/plain": [
       "np.int64(5)"
      ]
     },
     "execution_count": 67,
     "metadata": {},
     "output_type": "execute_result"
    }
   ],
   "source": [
    "a3[1, 0, 1]  # 1 for pehla box ya dursa"
   ]
  },
  {
   "cell_type": "markdown",
   "id": "354ba465",
   "metadata": {},
   "source": [
    "### Slicing"
   ]
  },
  {
   "cell_type": "code",
   "execution_count": 68,
   "id": "378803a4",
   "metadata": {},
   "outputs": [
    {
     "data": {
      "text/plain": [
       "array([0, 1, 2, 3, 4, 5, 6, 7, 8, 9])"
      ]
     },
     "execution_count": 68,
     "metadata": {},
     "output_type": "execute_result"
    }
   ],
   "source": [
    "a1"
   ]
  },
  {
   "cell_type": "code",
   "execution_count": 70,
   "id": "5e852e22",
   "metadata": {},
   "outputs": [
    {
     "data": {
      "text/plain": [
       "array([2, 3, 4])"
      ]
     },
     "execution_count": 70,
     "metadata": {},
     "output_type": "execute_result"
    }
   ],
   "source": [
    "a1[2:5]"
   ]
  },
  {
   "cell_type": "code",
   "execution_count": 71,
   "id": "d066645c",
   "metadata": {},
   "outputs": [
    {
     "data": {
      "text/plain": [
       "array([[ 0,  1,  2,  3],\n",
       "       [ 4,  5,  6,  7],\n",
       "       [ 8,  9, 10, 11]])"
      ]
     },
     "execution_count": 71,
     "metadata": {},
     "output_type": "execute_result"
    }
   ],
   "source": [
    "a2"
   ]
  },
  {
   "cell_type": "code",
   "execution_count": 72,
   "id": "d9085ee6",
   "metadata": {},
   "outputs": [
    {
     "data": {
      "text/plain": [
       "array([0, 1, 2, 3])"
      ]
     },
     "execution_count": 72,
     "metadata": {},
     "output_type": "execute_result"
    }
   ],
   "source": [
    "a2[0, :]"
   ]
  },
  {
   "cell_type": "code",
   "execution_count": 73,
   "id": "880a0b71",
   "metadata": {},
   "outputs": [
    {
     "data": {
      "text/plain": [
       "array([ 2,  6, 10])"
      ]
     },
     "execution_count": 73,
     "metadata": {},
     "output_type": "execute_result"
    }
   ],
   "source": [
    "a2[:, 2]"
   ]
  },
  {
   "cell_type": "code",
   "execution_count": null,
   "id": "85c5d385",
   "metadata": {},
   "outputs": [
    {
     "data": {
      "text/plain": [
       "array([[ 5,  6],\n",
       "       [ 9, 10]])"
      ]
     },
     "execution_count": 74,
     "metadata": {},
     "output_type": "execute_result"
    }
   ],
   "source": [
    "a2[1:, 1:3]"
   ]
  },
  {
   "cell_type": "code",
   "execution_count": 75,
   "id": "ce5d56b7",
   "metadata": {},
   "outputs": [
    {
     "data": {
      "text/plain": [
       "array([[ 0,  3],\n",
       "       [ 8, 11]])"
      ]
     },
     "execution_count": 75,
     "metadata": {},
     "output_type": "execute_result"
    }
   ],
   "source": [
    "a2[::2, ::3]"
   ]
  },
  {
   "cell_type": "code",
   "execution_count": 76,
   "id": "2faf6132",
   "metadata": {},
   "outputs": [
    {
     "data": {
      "text/plain": [
       "array([[[ 0,  1,  2],\n",
       "        [ 3,  4,  5],\n",
       "        [ 6,  7,  8]],\n",
       "\n",
       "       [[ 9, 10, 11],\n",
       "        [12, 13, 14],\n",
       "        [15, 16, 17]],\n",
       "\n",
       "       [[18, 19, 20],\n",
       "        [21, 22, 23],\n",
       "        [24, 25, 26]]])"
      ]
     },
     "execution_count": 76,
     "metadata": {},
     "output_type": "execute_result"
    }
   ],
   "source": [
    "a3 = np.arange(27).reshape(3, 3, 3)\n",
    "a3"
   ]
  },
  {
   "cell_type": "code",
   "execution_count": 77,
   "id": "febd2f11",
   "metadata": {},
   "outputs": [
    {
     "data": {
      "text/plain": [
       "array([[ 9, 10, 11],\n",
       "       [12, 13, 14],\n",
       "       [15, 16, 17]])"
      ]
     },
     "execution_count": 77,
     "metadata": {},
     "output_type": "execute_result"
    }
   ],
   "source": [
    "a3[1]"
   ]
  },
  {
   "cell_type": "code",
   "execution_count": 78,
   "id": "e8236fd5",
   "metadata": {},
   "outputs": [
    {
     "data": {
      "text/plain": [
       "array([[[0, 1, 2],\n",
       "        [3, 4, 5],\n",
       "        [6, 7, 8]]])"
      ]
     },
     "execution_count": 78,
     "metadata": {},
     "output_type": "execute_result"
    }
   ],
   "source": [
    "a3[::3]"
   ]
  },
  {
   "cell_type": "code",
   "execution_count": 83,
   "id": "a7aaf8a7",
   "metadata": {},
   "outputs": [
    {
     "data": {
      "text/plain": [
       "array([[[ 0,  1,  2],\n",
       "        [ 3,  4,  5],\n",
       "        [ 6,  7,  8]],\n",
       "\n",
       "       [[18, 19, 20],\n",
       "        [21, 22, 23],\n",
       "        [24, 25, 26]]])"
      ]
     },
     "execution_count": 83,
     "metadata": {},
     "output_type": "execute_result"
    }
   ],
   "source": [
    "a3[::2]"
   ]
  },
  {
   "cell_type": "code",
   "execution_count": 84,
   "id": "1bc081d7",
   "metadata": {},
   "outputs": [
    {
     "data": {
      "text/plain": [
       "array([3, 4, 5])"
      ]
     },
     "execution_count": 84,
     "metadata": {},
     "output_type": "execute_result"
    }
   ],
   "source": [
    "a3[0, 1, :]"
   ]
  },
  {
   "cell_type": "markdown",
   "id": "c2364ac3",
   "metadata": {},
   "source": [
    "### Iterating"
   ]
  },
  {
   "cell_type": "code",
   "execution_count": 85,
   "id": "34b896aa",
   "metadata": {},
   "outputs": [
    {
     "data": {
      "text/plain": [
       "array([0, 1, 2, 3, 4, 5, 6, 7, 8, 9])"
      ]
     },
     "execution_count": 85,
     "metadata": {},
     "output_type": "execute_result"
    }
   ],
   "source": [
    "a1"
   ]
  },
  {
   "cell_type": "code",
   "execution_count": 87,
   "id": "9040972d",
   "metadata": {},
   "outputs": [
    {
     "name": "stdout",
     "output_type": "stream",
     "text": [
      "0\n",
      "1\n",
      "2\n",
      "3\n",
      "4\n",
      "5\n",
      "6\n",
      "7\n",
      "8\n",
      "9\n"
     ]
    }
   ],
   "source": [
    "for i in a1:\n",
    "    print(i)"
   ]
  },
  {
   "cell_type": "code",
   "execution_count": 88,
   "id": "3156e90c",
   "metadata": {},
   "outputs": [
    {
     "data": {
      "text/plain": [
       "array([[ 0,  1,  2,  3],\n",
       "       [ 4,  5,  6,  7],\n",
       "       [ 8,  9, 10, 11]])"
      ]
     },
     "execution_count": 88,
     "metadata": {},
     "output_type": "execute_result"
    }
   ],
   "source": [
    "a2"
   ]
  },
  {
   "cell_type": "code",
   "execution_count": 90,
   "id": "3273b405",
   "metadata": {},
   "outputs": [
    {
     "name": "stdout",
     "output_type": "stream",
     "text": [
      "[0 1 2 3]\n",
      "[4 5 6 7]\n",
      "[ 8  9 10 11]\n"
     ]
    }
   ],
   "source": [
    "for i in a2:\n",
    "    print(i)"
   ]
  },
  {
   "cell_type": "code",
   "execution_count": 91,
   "id": "7c9ae36e",
   "metadata": {},
   "outputs": [
    {
     "data": {
      "text/plain": [
       "array([[[ 0,  1,  2],\n",
       "        [ 3,  4,  5],\n",
       "        [ 6,  7,  8]],\n",
       "\n",
       "       [[ 9, 10, 11],\n",
       "        [12, 13, 14],\n",
       "        [15, 16, 17]],\n",
       "\n",
       "       [[18, 19, 20],\n",
       "        [21, 22, 23],\n",
       "        [24, 25, 26]]])"
      ]
     },
     "execution_count": 91,
     "metadata": {},
     "output_type": "execute_result"
    }
   ],
   "source": [
    "a3"
   ]
  },
  {
   "cell_type": "code",
   "execution_count": 92,
   "id": "6e12c04e",
   "metadata": {},
   "outputs": [
    {
     "name": "stdout",
     "output_type": "stream",
     "text": [
      "[[0 1 2]\n",
      " [3 4 5]\n",
      " [6 7 8]]\n",
      "[[ 9 10 11]\n",
      " [12 13 14]\n",
      " [15 16 17]]\n",
      "[[18 19 20]\n",
      " [21 22 23]\n",
      " [24 25 26]]\n"
     ]
    }
   ],
   "source": [
    "for i in a3:\n",
    "    print(i)"
   ]
  },
  {
   "cell_type": "code",
   "execution_count": 93,
   "id": "761d2583",
   "metadata": {},
   "outputs": [
    {
     "name": "stdout",
     "output_type": "stream",
     "text": [
      "0\n",
      "1\n",
      "2\n",
      "3\n",
      "4\n",
      "5\n",
      "6\n",
      "7\n",
      "8\n",
      "9\n",
      "10\n",
      "11\n",
      "12\n",
      "13\n",
      "14\n",
      "15\n",
      "16\n",
      "17\n",
      "18\n",
      "19\n",
      "20\n",
      "21\n",
      "22\n",
      "23\n",
      "24\n",
      "25\n",
      "26\n"
     ]
    }
   ],
   "source": [
    "for i in np.nditer(a3):\n",
    "    print(i)"
   ]
  },
  {
   "cell_type": "markdown",
   "id": "7fa1d17e",
   "metadata": {},
   "source": [
    "### Reshaping"
   ]
  },
  {
   "cell_type": "code",
   "execution_count": 94,
   "id": "6ac22b0c",
   "metadata": {},
   "outputs": [],
   "source": [
    "# reshape"
   ]
  },
  {
   "cell_type": "code",
   "execution_count": 98,
   "id": "fe12885c",
   "metadata": {},
   "outputs": [
    {
     "name": "stdout",
     "output_type": "stream",
     "text": [
      "[[ 0  1  2  3]\n",
      " [ 4  5  6  7]\n",
      " [ 8  9 10 11]]\n",
      "\n",
      "[[ 0  4  8]\n",
      " [ 1  5  9]\n",
      " [ 2  6 10]\n",
      " [ 3  7 11]]\n",
      "\n",
      "[[ 0  4  8]\n",
      " [ 1  5  9]\n",
      " [ 2  6 10]\n",
      " [ 3  7 11]]\n"
     ]
    }
   ],
   "source": [
    "# Transpose\n",
    "print(a2)\n",
    "print()\n",
    "print(np.transpose(a2))\n",
    "print()\n",
    "# short-cut\n",
    "print(a2.T)"
   ]
  },
  {
   "cell_type": "code",
   "execution_count": 100,
   "id": "ab88d1a1",
   "metadata": {},
   "outputs": [
    {
     "name": "stdout",
     "output_type": "stream",
     "text": [
      "[[ 0  1  2  3]\n",
      " [ 4  5  6  7]\n",
      " [ 8  9 10 11]]\n",
      "\n",
      "[ 0  1  2  3  4  5  6  7  8  9 10 11]\n"
     ]
    }
   ],
   "source": [
    "# ravel-convert into 1D\n",
    "print(a2)\n",
    "print()\n",
    "print(a2.ravel())"
   ]
  },
  {
   "cell_type": "markdown",
   "id": "1641cf4b",
   "metadata": {},
   "source": [
    "### Stacking"
   ]
  },
  {
   "cell_type": "code",
   "execution_count": 104,
   "id": "ab800c27",
   "metadata": {},
   "outputs": [
    {
     "name": "stdout",
     "output_type": "stream",
     "text": [
      "[[ 0  1  2  3]\n",
      " [ 4  5  6  7]\n",
      " [ 8  9 10 11]]\n",
      "\n",
      "[[12 13 14 15]\n",
      " [16 17 18 19]\n",
      " [20 21 22 23]]\n"
     ]
    }
   ],
   "source": [
    "# Horizontal stacking\n",
    "a4 = np.arange(12).reshape(3, 4)\n",
    "a5 = np.arange(12, 24).reshape(3, 4)\n",
    "print(a4)\n",
    "print()\n",
    "print(a5)"
   ]
  },
  {
   "cell_type": "code",
   "execution_count": 107,
   "id": "0f3a6d11",
   "metadata": {},
   "outputs": [
    {
     "data": {
      "text/plain": [
       "array([[ 0,  1,  2,  3, 12, 13, 14, 15],\n",
       "       [ 4,  5,  6,  7, 16, 17, 18, 19],\n",
       "       [ 8,  9, 10, 11, 20, 21, 22, 23]])"
      ]
     },
     "execution_count": 107,
     "metadata": {},
     "output_type": "execute_result"
    }
   ],
   "source": [
    "np.hstack((a4, a5))"
   ]
  },
  {
   "cell_type": "code",
   "execution_count": 108,
   "id": "ac79b6af",
   "metadata": {},
   "outputs": [
    {
     "data": {
      "text/plain": [
       "array([[ 0,  1,  2,  3],\n",
       "       [ 4,  5,  6,  7],\n",
       "       [ 8,  9, 10, 11],\n",
       "       [12, 13, 14, 15],\n",
       "       [16, 17, 18, 19],\n",
       "       [20, 21, 22, 23]])"
      ]
     },
     "execution_count": 108,
     "metadata": {},
     "output_type": "execute_result"
    }
   ],
   "source": [
    "# Vertical stacking\n",
    "np.vstack((a4, a5))"
   ]
  },
  {
   "cell_type": "markdown",
   "id": "17691769",
   "metadata": {},
   "source": [
    "### Spliting"
   ]
  },
  {
   "cell_type": "code",
   "execution_count": 109,
   "id": "18f69781",
   "metadata": {},
   "outputs": [
    {
     "data": {
      "text/plain": [
       "array([[ 0,  1,  2,  3],\n",
       "       [ 4,  5,  6,  7],\n",
       "       [ 8,  9, 10, 11]])"
      ]
     },
     "execution_count": 109,
     "metadata": {},
     "output_type": "execute_result"
    }
   ],
   "source": [
    "# Horizontal spliting\n",
    "a4"
   ]
  },
  {
   "cell_type": "code",
   "execution_count": 110,
   "id": "e01c611e",
   "metadata": {},
   "outputs": [
    {
     "data": {
      "text/plain": [
       "[array([[0, 1],\n",
       "        [4, 5],\n",
       "        [8, 9]]),\n",
       " array([[ 2,  3],\n",
       "        [ 6,  7],\n",
       "        [10, 11]])]"
      ]
     },
     "execution_count": 110,
     "metadata": {},
     "output_type": "execute_result"
    }
   ],
   "source": [
    "np.hsplit(a4, 2)"
   ]
  },
  {
   "cell_type": "code",
   "execution_count": 111,
   "id": "ee108bca",
   "metadata": {},
   "outputs": [
    {
     "data": {
      "text/plain": [
       "array([[12, 13, 14, 15],\n",
       "       [16, 17, 18, 19],\n",
       "       [20, 21, 22, 23]])"
      ]
     },
     "execution_count": 111,
     "metadata": {},
     "output_type": "execute_result"
    }
   ],
   "source": [
    "# Vertical spliting\n",
    "a5"
   ]
  },
  {
   "cell_type": "code",
   "execution_count": 112,
   "id": "dd8cdcab",
   "metadata": {},
   "outputs": [
    {
     "data": {
      "text/plain": [
       "[array([[12, 13, 14, 15]]),\n",
       " array([[16, 17, 18, 19]]),\n",
       " array([[20, 21, 22, 23]])]"
      ]
     },
     "execution_count": 112,
     "metadata": {},
     "output_type": "execute_result"
    }
   ],
   "source": [
    "np.vsplit(a5, 3)"
   ]
  }
 ],
 "metadata": {
  "kernelspec": {
   "display_name": "Python 3",
   "language": "python",
   "name": "python3"
  },
  "language_info": {
   "codemirror_mode": {
    "name": "ipython",
    "version": 3
   },
   "file_extension": ".py",
   "mimetype": "text/x-python",
   "name": "python",
   "nbconvert_exporter": "python",
   "pygments_lexer": "ipython3",
   "version": "3.10.11"
  }
 },
 "nbformat": 4,
 "nbformat_minor": 5
}
